{
 "cells": [
  {
   "cell_type": "markdown",
   "metadata": {},
   "source": [
    "# 2021 Refinitiv Natural Gas - Analyst Test\n",
    "*Prepared by Amina Talipova.*\n",
    "## Below is my approach to solve the basic set of three problems: \n",
    "1.\tPrepare temperature Data in 6 UK regions"
   ]
  },
  {
   "cell_type": "markdown",
   "metadata": {},
   "source": [
    "#### I solve this task with two general methods described in the \"Rationale and logic implementation\" pdf file, where the second method consists of two submethods, each with different methodological approach. Here I start from the most accurate one (Method 3 in pdf Report), and then show two ways of how implement Method 2, described in Report. "
   ]
  },
  {
   "cell_type": "code",
   "execution_count": 1,
   "metadata": {},
   "outputs": [],
   "source": [
    "import numpy as np\n",
    "import pandas as pd\n",
    "import matplotlib.pyplot as plt\n",
    "import datetime as dt\n",
    "import os"
   ]
  },
  {
   "cell_type": "code",
   "execution_count": 2,
   "metadata": {},
   "outputs": [
    {
     "name": "stdout",
     "output_type": "stream",
     "text": [
      "C:\\Users\\User\\UK Temperatures.csv\n"
     ]
    }
   ],
   "source": [
    "# open data file\n",
    "\n",
    "path = os.getcwd()\n",
    "filePath = path + r'\\UK Temperatures.csv'\n",
    "print(filePath)"
   ]
  },
  {
   "cell_type": "code",
   "execution_count": 3,
   "metadata": {},
   "outputs": [],
   "source": [
    "# unify columns' titles and set daytime column as index \n",
    "\n",
    "df = pd.read_csv(filePath, parse_dates=[0],header = 0, dayfirst=True, usecols=range(7))\n",
    "df = df.rename(columns = {\"Unnamed: 0\" : \"DateTime\"})\n",
    "df = df.set_index('DateTime')"
   ]
  },
  {
   "cell_type": "code",
   "execution_count": 4,
   "metadata": {},
   "outputs": [
    {
     "name": "stdout",
     "output_type": "stream",
     "text": [
      "<class 'pandas.core.frame.DataFrame'>\n",
      "DatetimeIndex: 8451 entries, 2016-01-01 00:00:00 to 2016-12-31 00:00:00\n",
      "Data columns (total 6 columns):\n",
      " #   Column        Non-Null Count  Dtype  \n",
      "---  ------        --------------  -----  \n",
      " 0   Brice Norton  7998 non-null   float64\n",
      " 1   Herstmonceux  8217 non-null   float64\n",
      " 2   Heathrow      8355 non-null   float64\n",
      " 3   Nottingham    8327 non-null   float64\n",
      " 4   Shawbury      8266 non-null   float64\n",
      " 5   Waddington    8386 non-null   float64\n",
      "dtypes: float64(6)\n",
      "memory usage: 462.2 KB\n"
     ]
    }
   ],
   "source": [
    "# analyze dataframe\n",
    "\n",
    "df.info()"
   ]
  },
  {
   "cell_type": "code",
   "execution_count": 5,
   "metadata": {},
   "outputs": [
    {
     "data": {
      "text/html": [
       "<div>\n",
       "<style scoped>\n",
       "    .dataframe tbody tr th:only-of-type {\n",
       "        vertical-align: middle;\n",
       "    }\n",
       "\n",
       "    .dataframe tbody tr th {\n",
       "        vertical-align: top;\n",
       "    }\n",
       "\n",
       "    .dataframe thead th {\n",
       "        text-align: right;\n",
       "    }\n",
       "</style>\n",
       "<table border=\"1\" class=\"dataframe\">\n",
       "  <thead>\n",
       "    <tr style=\"text-align: right;\">\n",
       "      <th></th>\n",
       "      <th>Brice Norton</th>\n",
       "      <th>Herstmonceux</th>\n",
       "      <th>Heathrow</th>\n",
       "      <th>Nottingham</th>\n",
       "      <th>Shawbury</th>\n",
       "      <th>Waddington</th>\n",
       "    </tr>\n",
       "    <tr>\n",
       "      <th>DateTime</th>\n",
       "      <th></th>\n",
       "      <th></th>\n",
       "      <th></th>\n",
       "      <th></th>\n",
       "      <th></th>\n",
       "      <th></th>\n",
       "    </tr>\n",
       "  </thead>\n",
       "  <tbody>\n",
       "    <tr>\n",
       "      <th>2016-01-01 00:00:00</th>\n",
       "      <td>3.4</td>\n",
       "      <td>5.2</td>\n",
       "      <td>3.8</td>\n",
       "      <td>2.5</td>\n",
       "      <td>NaN</td>\n",
       "      <td>3.7</td>\n",
       "    </tr>\n",
       "    <tr>\n",
       "      <th>2016-01-01 12:00:00</th>\n",
       "      <td>4.9</td>\n",
       "      <td>8.2</td>\n",
       "      <td>7.0</td>\n",
       "      <td>3.3</td>\n",
       "      <td>4.3</td>\n",
       "      <td>2.4</td>\n",
       "    </tr>\n",
       "    <tr>\n",
       "      <th>2016-01-01 18:00:00</th>\n",
       "      <td>NaN</td>\n",
       "      <td>NaN</td>\n",
       "      <td>NaN</td>\n",
       "      <td>5.2</td>\n",
       "      <td>5.9</td>\n",
       "      <td>NaN</td>\n",
       "    </tr>\n",
       "    <tr>\n",
       "      <th>2016-01-02 00:00:00</th>\n",
       "      <td>7.6</td>\n",
       "      <td>8.5</td>\n",
       "      <td>8.1</td>\n",
       "      <td>6.4</td>\n",
       "      <td>7.0</td>\n",
       "      <td>6.9</td>\n",
       "    </tr>\n",
       "    <tr>\n",
       "      <th>2016-01-02 06:00:00</th>\n",
       "      <td>9.1</td>\n",
       "      <td>10.2</td>\n",
       "      <td>9.7</td>\n",
       "      <td>7.1</td>\n",
       "      <td>8.4</td>\n",
       "      <td>7.2</td>\n",
       "    </tr>\n",
       "    <tr>\n",
       "      <th>2016-01-02 12:00:00</th>\n",
       "      <td>9.6</td>\n",
       "      <td>9.8</td>\n",
       "      <td>10.1</td>\n",
       "      <td>8.7</td>\n",
       "      <td>9.4</td>\n",
       "      <td>8.6</td>\n",
       "    </tr>\n",
       "    <tr>\n",
       "      <th>2016-01-02 18:00:00</th>\n",
       "      <td>9.2</td>\n",
       "      <td>11.0</td>\n",
       "      <td>10.9</td>\n",
       "      <td>8.4</td>\n",
       "      <td>8.9</td>\n",
       "      <td>8.5</td>\n",
       "    </tr>\n",
       "    <tr>\n",
       "      <th>2016-01-03 00:00:00</th>\n",
       "      <td>9.0</td>\n",
       "      <td>9.3</td>\n",
       "      <td>9.7</td>\n",
       "      <td>7.8</td>\n",
       "      <td>8.4</td>\n",
       "      <td>8.2</td>\n",
       "    </tr>\n",
       "    <tr>\n",
       "      <th>2016-01-03 06:00:00</th>\n",
       "      <td>4.3</td>\n",
       "      <td>4.9</td>\n",
       "      <td>5.2</td>\n",
       "      <td>6.6</td>\n",
       "      <td>5.6</td>\n",
       "      <td>7.6</td>\n",
       "    </tr>\n",
       "    <tr>\n",
       "      <th>2016-01-03 12:00:00</th>\n",
       "      <td>8.5</td>\n",
       "      <td>8.2</td>\n",
       "      <td>9.1</td>\n",
       "      <td>6.2</td>\n",
       "      <td>7.5</td>\n",
       "      <td>5.7</td>\n",
       "    </tr>\n",
       "  </tbody>\n",
       "</table>\n",
       "</div>"
      ],
      "text/plain": [
       "                     Brice Norton  Herstmonceux  Heathrow  Nottingham  \\\n",
       "DateTime                                                                \n",
       "2016-01-01 00:00:00           3.4           5.2       3.8         2.5   \n",
       "2016-01-01 12:00:00           4.9           8.2       7.0         3.3   \n",
       "2016-01-01 18:00:00           NaN           NaN       NaN         5.2   \n",
       "2016-01-02 00:00:00           7.6           8.5       8.1         6.4   \n",
       "2016-01-02 06:00:00           9.1          10.2       9.7         7.1   \n",
       "2016-01-02 12:00:00           9.6           9.8      10.1         8.7   \n",
       "2016-01-02 18:00:00           9.2          11.0      10.9         8.4   \n",
       "2016-01-03 00:00:00           9.0           9.3       9.7         7.8   \n",
       "2016-01-03 06:00:00           4.3           4.9       5.2         6.6   \n",
       "2016-01-03 12:00:00           8.5           8.2       9.1         6.2   \n",
       "\n",
       "                     Shawbury  Waddington  \n",
       "DateTime                                   \n",
       "2016-01-01 00:00:00       NaN         3.7  \n",
       "2016-01-01 12:00:00       4.3         2.4  \n",
       "2016-01-01 18:00:00       5.9         NaN  \n",
       "2016-01-02 00:00:00       7.0         6.9  \n",
       "2016-01-02 06:00:00       8.4         7.2  \n",
       "2016-01-02 12:00:00       9.4         8.6  \n",
       "2016-01-02 18:00:00       8.9         8.5  \n",
       "2016-01-03 00:00:00       8.4         8.2  \n",
       "2016-01-03 06:00:00       5.6         7.6  \n",
       "2016-01-03 12:00:00       7.5         5.7  "
      ]
     },
     "execution_count": 5,
     "metadata": {},
     "output_type": "execute_result"
    }
   ],
   "source": [
    "# analyze dataframe\n",
    "\n",
    "df.head(10)"
   ]
  },
  {
   "cell_type": "markdown",
   "metadata": {},
   "source": [
    "### Method 2.1.  "
   ]
  },
  {
   "cell_type": "code",
   "execution_count": null,
   "metadata": {},
   "outputs": [],
   "source": [
    "df1 = pd.read_csv(filePath, index_col=0)\n",
    "df1.index = pd.to_datetime(df1.index)\n",
    "df1.head()"
   ]
  },
  {
   "cell_type": "code",
   "execution_count": null,
   "metadata": {},
   "outputs": [],
   "source": [
    "df1['hour'] = df1.index.hour.values\n",
    "df1"
   ]
  },
  {
   "cell_type": "code",
   "execution_count": null,
   "metadata": {},
   "outputs": [],
   "source": [
    "df1s = []\n",
    "for hour, data in df1.groupby('hour'):\n",
    "    df1s.append(\n",
    "        ((data.fillna(method='bfill') + \n",
    "         data.fillna(method='ffill'))/2).\n",
    "        fillna(method='bfill').\n",
    "        fillna(method='ffill')\n",
    "    )\n",
    "df_filled = pd.concat(df1s, axis=0).sort_index()"
   ]
  },
  {
   "cell_type": "code",
   "execution_count": null,
   "metadata": {},
   "outputs": [],
   "source": [
    "df_filled['date'] = df_filled.index.date\n",
    "df_filled.drop(labels=['hour'], axis=1, inplace=True)\n",
    "df_daily=df_filled.groupby('date').agg(np.mean)\n",
    "print(df_daily.head(10))"
   ]
  },
  {
   "cell_type": "code",
   "execution_count": null,
   "metadata": {},
   "outputs": [],
   "source": [
    "\n",
    "\n",
    "df_daily.info()\n"
   ]
  },
  {
   "cell_type": "code",
   "execution_count": null,
   "metadata": {},
   "outputs": [],
   "source": [
    "df_daily.values.shape"
   ]
  },
  {
   "cell_type": "code",
   "execution_count": null,
   "metadata": {},
   "outputs": [],
   "source": [
    "df_daily['Weighted_daily_temp'] = df_daily[['Brice Norton','Herstmonceux', 'Heathrow','Nottingham', 'Shawbury','Waddington']].values.dot(df_dictionary.Weight.values[:, np.newaxis])\n",
    "print(df_daily.head(20))\n"
   ]
  },
  {
   "cell_type": "code",
   "execution_count": null,
   "metadata": {},
   "outputs": [],
   "source": [
    "\n",
    "df_daily.reset_index().plot(x='date', y='Weighted_daily_temp', color='red', kind='scatter', figsize=(15, 10))\n",
    "plt.show()"
   ]
  },
  {
   "cell_type": "markdown",
   "metadata": {},
   "source": [
    "### Method 2.2."
   ]
  },
  {
   "cell_type": "code",
   "execution_count": 11,
   "metadata": {},
   "outputs": [
    {
     "name": "stdout",
     "output_type": "stream",
     "text": [
      "                     Brice Norton  Herstmonceux   Heathrow  Nottingham  \\\n",
      "DateTime                                                                 \n",
      "2016-01-01 00:00:00      3.400000      5.200000   3.800000    2.500000   \n",
      "2016-01-01 03:00:00      3.606445      5.981313   4.633686    2.592437   \n",
      "2016-01-01 06:00:00      4.233132      6.463858   5.219478    3.114698   \n",
      "2016-01-01 09:00:00      4.859819      6.946403   5.805270    3.636960   \n",
      "2016-01-01 12:00:00      4.900000      8.200000   7.000000    3.300000   \n",
      "2016-01-01 15:00:00      6.113192      7.911493   6.976855    4.681483   \n",
      "2016-01-01 18:00:00      6.739879      8.394038   7.562648    5.200000   \n",
      "2016-01-01 21:00:00      7.366565      8.876582   8.148440    5.726007   \n",
      "2016-01-02 00:00:00      7.600000      8.500000   8.100000    6.400000   \n",
      "2016-01-02 03:00:00      8.619938      9.841672   9.320025    6.664711   \n",
      "2016-01-02 06:00:00      9.100000     10.200000   9.700000    7.100000   \n",
      "2016-01-02 09:00:00      9.058857     10.082863   9.913074    7.497597   \n",
      "2016-01-02 12:00:00      9.600000      9.800000  10.100000    8.700000   \n",
      "2016-01-02 15:00:00      8.683322      9.600154   9.927587    8.330484   \n",
      "2016-01-02 18:00:00      9.200000     11.000000  10.900000    8.400000   \n",
      "2016-01-02 21:00:00      8.307786      9.117445   9.942099    8.303727   \n",
      "2016-01-03 00:00:00      9.000000      9.300000   9.700000    7.800000   \n",
      "2016-01-03 03:00:00      7.810361      8.365462   7.989697    7.417327   \n",
      "2016-01-03 06:00:00      4.300000      4.900000   5.200000    6.600000   \n",
      "2016-01-03 09:00:00      7.191046      7.344205   7.242220    6.530927   \n",
      "\n",
      "                     Shawbury  Waddington  \n",
      "DateTime                                   \n",
      "2016-01-01 00:00:00  1.088883    3.700000  \n",
      "2016-01-01 03:00:00  1.876742    3.025575  \n",
      "2016-01-01 06:00:00  2.664601    3.514951  \n",
      "2016-01-01 09:00:00  3.452460    4.004326  \n",
      "2016-01-01 12:00:00  4.300000    2.400000  \n",
      "2016-01-01 15:00:00  5.028178    4.983078  \n",
      "2016-01-01 18:00:00  5.900000    5.472454  \n",
      "2016-01-01 21:00:00  6.603896    5.961829  \n",
      "2016-01-02 00:00:00  7.000000    6.900000  \n",
      "2016-01-02 03:00:00  8.179614    6.940581  \n",
      "2016-01-02 06:00:00  8.400000    7.200000  \n",
      "2016-01-02 09:00:00  8.755886    7.590741  \n",
      "2016-01-02 12:00:00  9.400000    8.600000  \n",
      "2016-01-02 15:00:00  8.332713    7.912309  \n",
      "2016-01-02 18:00:00  8.900000    8.500000  \n",
      "2016-01-02 21:00:00  7.909540    8.233877  \n",
      "2016-01-03 00:00:00  8.400000    8.200000  \n",
      "2016-01-03 03:00:00  7.458134    7.996458  \n",
      "2016-01-03 06:00:00  5.600000    7.600000  \n",
      "2016-01-03 09:00:00  6.978495    7.200054  \n",
      "<class 'pandas.core.frame.DataFrame'>\n",
      "DatetimeIndex: 2921 entries, 2016-01-01 00:00:00 to 2016-12-31 00:00:00\n",
      "Freq: 3H\n",
      "Data columns (total 6 columns):\n",
      " #   Column        Non-Null Count  Dtype  \n",
      "---  ------        --------------  -----  \n",
      " 0   Brice Norton  2921 non-null   float64\n",
      " 1   Herstmonceux  2921 non-null   float64\n",
      " 2   Heathrow      2921 non-null   float64\n",
      " 3   Nottingham    2921 non-null   float64\n",
      " 4   Shawbury      2921 non-null   float64\n",
      " 5   Waddington    2921 non-null   float64\n",
      "dtypes: float64(6)\n",
      "memory usage: 159.7 KB\n",
      "None\n"
     ]
    }
   ],
   "source": [
    "# Method 2.2 First, we need to resample the dataframe because the dates and hours of observations defferent \n",
    "\n",
    "\n",
    "df_new = df.resample('3H').interpolate(method = 'spline', order = 1, limit_direction='both')\n",
    "\n",
    "print(df_new.head(20))\n",
    "print(df_new.info())"
   ]
  },
  {
   "cell_type": "code",
   "execution_count": 12,
   "metadata": {},
   "outputs": [
    {
     "name": "stdout",
     "output_type": "stream",
     "text": [
      "            Brice Norton  Herstmonceux  Heathrow  Nottingham  Shawbury  \\\n",
      "DateTime                                                                 \n",
      "2016-01-01      5.152379      7.246711  6.143297    3.843948  3.864345   \n",
      "2016-01-02      8.771238      9.767767  9.737848    7.674565  8.359719   \n",
      "2016-01-03      7.161751      7.749386  7.799541    6.740912  6.656838   \n",
      "2016-01-04      7.314546      7.999336  7.773314    5.594596  5.601682   \n",
      "2016-01-05      6.754230      8.173809  7.578256    6.600837  7.028216   \n",
      "2016-01-06      6.189930      6.162551  6.778750    6.531761  6.389797   \n",
      "2016-01-07      5.694587      7.935436  6.728907    5.267645  5.190495   \n",
      "2016-01-08      3.936749      5.434007  5.389238    4.097275  4.908673   \n",
      "2016-01-09      7.663537      9.117917  9.057712    6.350172  6.345158   \n",
      "2016-01-10      5.497094      5.410776  6.488774    4.958105  5.507756   \n",
      "2016-01-11      5.055030      5.530237  5.502825    3.907622  4.364772   \n",
      "2016-01-12      5.166341      4.935578  5.368952    4.048347  4.185913   \n",
      "2016-01-13      4.794352      5.388279  5.376360    4.146652  3.946685   \n",
      "2016-01-14      2.775000      3.500000  3.787500    2.450000  2.600000   \n",
      "2016-01-15      1.850000      2.075000  3.000000    1.962500  2.425000   \n",
      "2016-01-16      1.725000      1.425000  2.300000    1.287500  0.087500   \n",
      "2016-01-17      1.837500      2.187500  2.287500    0.337439  1.853337   \n",
      "2016-01-18      3.687500      2.612500  3.500000    2.400000  4.087500   \n",
      "2016-01-19     -0.129380     -0.450000  0.512500    1.250000  2.333707   \n",
      "2016-01-20     -1.512500      0.537500 -0.100000    2.900000 -0.900668   \n",
      "\n",
      "            Waddington  \n",
      "DateTime                \n",
      "2016-01-01    4.132777  \n",
      "2016-01-02    7.734688  \n",
      "2016-01-03    6.951311  \n",
      "2016-01-04    5.320093  \n",
      "2016-01-05    6.406768  \n",
      "2016-01-06    6.247641  \n",
      "2016-01-07    5.509868  \n",
      "2016-01-08    4.149695  \n",
      "2016-01-09    5.561542  \n",
      "2016-01-10    5.114931  \n",
      "2016-01-11    2.467809  \n",
      "2016-01-12    4.011099  \n",
      "2016-01-13    3.867444  \n",
      "2016-01-14    2.250000  \n",
      "2016-01-15    1.787500  \n",
      "2016-01-16    1.462500  \n",
      "2016-01-17    0.914695  \n",
      "2016-01-18    1.512500  \n",
      "2016-01-19    1.415085  \n",
      "2016-01-20    2.912500  \n",
      "<class 'pandas.core.frame.DataFrame'>\n",
      "DatetimeIndex: 366 entries, 2016-01-01 to 2016-12-31\n",
      "Freq: D\n",
      "Data columns (total 6 columns):\n",
      " #   Column        Non-Null Count  Dtype  \n",
      "---  ------        --------------  -----  \n",
      " 0   Brice Norton  366 non-null    float64\n",
      " 1   Herstmonceux  366 non-null    float64\n",
      " 2   Heathrow      366 non-null    float64\n",
      " 3   Nottingham    366 non-null    float64\n",
      " 4   Shawbury      366 non-null    float64\n",
      " 5   Waddington    366 non-null    float64\n",
      "dtypes: float64(6)\n",
      "memory usage: 20.0 KB\n",
      "None\n"
     ]
    }
   ],
   "source": [
    "# and after resampling make grouping by day\n",
    "\n",
    "df_new = df_new.resample('D').mean()\n",
    "print(df_new.head(20))\n",
    "print(df_new.info())"
   ]
  },
  {
   "cell_type": "code",
   "execution_count": 13,
   "metadata": {},
   "outputs": [
    {
     "name": "stdout",
     "output_type": "stream",
     "text": [
      "<class 'pandas.core.frame.DataFrame'>\n",
      "DatetimeIndex: 366 entries, 2016-01-01 to 2016-12-31\n",
      "Freq: D\n",
      "Data columns (total 6 columns):\n",
      " #   Column        Non-Null Count  Dtype  \n",
      "---  ------        --------------  -----  \n",
      " 0   Brice Norton  366 non-null    float64\n",
      " 1   Herstmonceux  366 non-null    float64\n",
      " 2   Heathrow      366 non-null    float64\n",
      " 3   Nottingham    366 non-null    float64\n",
      " 4   Shawbury      366 non-null    float64\n",
      " 5   Waddington    366 non-null    float64\n",
      "dtypes: float64(6)\n",
      "memory usage: 20.0 KB\n"
     ]
    }
   ],
   "source": [
    "# analyze dataframe\n",
    "\n",
    "df_new.info()"
   ]
  },
  {
   "cell_type": "code",
   "execution_count": 14,
   "metadata": {},
   "outputs": [
    {
     "data": {
      "text/plain": [
       "(6, 1)"
      ]
     },
     "execution_count": 14,
     "metadata": {},
     "output_type": "execute_result"
    }
   ],
   "source": [
    "# check if data frames satisfy to be multiplied to get the weithed average\n",
    "\n",
    "df_new.values.shape\n",
    "df_dictionary.Weight.values[:, np.newaxis].shape"
   ]
  },
  {
   "cell_type": "code",
   "execution_count": 15,
   "metadata": {},
   "outputs": [],
   "source": [
    "# finally, calculate weighted daily average\n",
    "\n",
    "df_new['daily_temp'] = df_new.values.dot(\n",
    "    df_dictionary.Weight.values[:, np.newaxis]\n",
    ")"
   ]
  },
  {
   "cell_type": "code",
   "execution_count": 16,
   "metadata": {},
   "outputs": [
    {
     "name": "stdout",
     "output_type": "stream",
     "text": [
      "            Brice Norton  Herstmonceux  Heathrow  Nottingham  Shawbury  \\\n",
      "DateTime                                                                 \n",
      "2016-01-01      5.152379      7.246711  6.143297    3.843948  3.864345   \n",
      "2016-01-02      8.771238      9.767767  9.737848    7.674565  8.359719   \n",
      "2016-01-03      7.161751      7.749386  7.799541    6.740912  6.656838   \n",
      "2016-01-04      7.314546      7.999336  7.773314    5.594596  5.601682   \n",
      "2016-01-05      6.754230      8.173809  7.578256    6.600837  7.028216   \n",
      "2016-01-06      6.189930      6.162551  6.778750    6.531761  6.389797   \n",
      "2016-01-07      5.694587      7.935436  6.728907    5.267645  5.190495   \n",
      "2016-01-08      3.936749      5.434007  5.389238    4.097275  4.908673   \n",
      "2016-01-09      7.663537      9.117917  9.057712    6.350172  6.345158   \n",
      "2016-01-10      5.497094      5.410776  6.488774    4.958105  5.507756   \n",
      "\n",
      "            Waddington  daily_temp  \n",
      "DateTime                            \n",
      "2016-01-01    4.132777    5.098836  \n",
      "2016-01-02    7.734688    8.801251  \n",
      "2016-01-03    6.951311    7.228803  \n",
      "2016-01-04    5.320093    6.695210  \n",
      "2016-01-05    6.406768    7.133082  \n",
      "2016-01-06    6.247641    6.455752  \n",
      "2016-01-07    5.509868    6.048634  \n",
      "2016-01-08    4.149695    4.765158  \n",
      "2016-01-09    5.561542    7.519555  \n",
      "2016-01-10    5.114931    5.668349  \n"
     ]
    }
   ],
   "source": [
    "print(df_new.head(10))"
   ]
  },
  {
   "cell_type": "code",
   "execution_count": 19,
   "metadata": {},
   "outputs": [
    {
     "data": {
      "image/png": "[encoded data removed]",
      "text/plain": [
       "<Figure size 1080x720 with 1 Axes>"
      ]
     },
     "metadata": {
      "needs_background": "light"
     },
     "output_type": "display_data"
    }
   ],
   "source": [
    "df_new.reset_index().plot(x='DateTime', y='daily_temp', color='red', kind='scatter', figsize=(15, 10))\n",
    "plt.show()"
   ]
  },
  {
   "cell_type": "code",
   "execution_count": null,
   "metadata": {},
   "outputs": [],
   "source": []
  }
 ],
 "metadata": {
  "kernelspec": {
   "display_name": "Python 3",
   "language": "python",
   "name": "python3"
  },
  "language_info": {
   "codemirror_mode": {
    "name": "ipython",
    "version": 3
   },
   "file_extension": ".py",
   "mimetype": "text/x-python",
   "name": "python",
   "nbconvert_exporter": "python",
   "pygments_lexer": "ipython3",
   "version": "3.7.6"
  }
 },
 "nbformat": 4,
 "nbformat_minor": 4
}
