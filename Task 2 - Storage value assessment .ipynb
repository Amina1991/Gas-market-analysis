{
 "cells": [
  {
   "cell_type": "markdown",
   "metadata": {},
   "source": [
    "# 2021 Refinitiv Natural Gas - Analyst Test\n",
    "*Prepared by Amina Talipova.*\n",
    "## Below is my approach to solve the basic set of three problems: \n",
    "2.\tEvaluate natural gas storage; \n",
    " \n"
   ]
  },
  {
   "cell_type": "markdown",
   "metadata": {},
   "source": [
    "### I solve this task with the logic described in the \"Task 2 explanation.xlsx\" supporting document"
   ]
  },
  {
   "cell_type": "code",
   "execution_count": 1,
   "metadata": {},
   "outputs": [],
   "source": [
    "import numpy as np\n",
    "import pandas as pd\n",
    "import matplotlib.pyplot as plt\n",
    "import datetime as dt\n",
    "import os\n",
    "from pathlib import Path\n"
   ]
  },
  {
   "cell_type": "code",
   "execution_count": 2,
   "metadata": {},
   "outputs": [],
   "source": [
    "#setting the path to find file, here to demonstrate the code I use Henry Hub prices\n",
    "\n",
    "path = os.getcwd()\n",
    "filePath = path + '\\HenryHubPrompt.csv'"
   ]
  },
  {
   "cell_type": "code",
   "execution_count": 3,
   "metadata": {},
   "outputs": [],
   "source": [
    "# reading file\n",
    "\n",
    "df = pd.read_csv(filePath)"
   ]
  },
  {
   "cell_type": "code",
   "execution_count": 4,
   "metadata": {},
   "outputs": [
    {
     "name": "stdout",
     "output_type": "stream",
     "text": [
      "               Close\n",
      "Exchange Date       \n",
      "30-Sep-20      2.527\n",
      "29-Sep-20      2.561\n",
      "28-Sep-20      2.101\n",
      "25-Sep-20      2.139\n",
      "24-Sep-20      2.248\n"
     ]
    }
   ],
   "source": [
    "# dealing with dates format\n",
    "\n",
    "df.set_index('Exchange Date',inplace=True)\n",
    "print(df.head())"
   ]
  },
  {
   "cell_type": "code",
   "execution_count": 5,
   "metadata": {},
   "outputs": [
    {
     "name": "stdout",
     "output_type": "stream",
     "text": [
      "472\n",
      "67\n"
     ]
    }
   ],
   "source": [
    "# checking out the max-min for information\n",
    "\n",
    "print(df.Close.argmax())\n",
    "print(df.Close.argmin())"
   ]
  },
  {
   "cell_type": "code",
   "execution_count": 6,
   "metadata": {},
   "outputs": [],
   "source": [
    "# Lets realize the logic (demonstrated in the Excel file \"Task 2 explanation\") of the trade strategy when we buy at the \n",
    "# record low and sell at the record high prices\n",
    "# Here the output is an array of positions where even positions are the end of decreasing at the lower peak and \n",
    "# odd positions are the end of increasing at the higher peak\n",
    "\n",
    "def findPeaks(arr):\n",
    "    '''\n",
    "    findPeaks () returns the array of indexes fo those days when we sell or buy \n",
    "    as list of pairs [[buy_day1, sell_day1],...,[[buy_dayN, sell_dayN]]]\n",
    "    '''\n",
    "    indexes = [] \n",
    "    lower = True\n",
    "    prev = arr[0]\n",
    "    for (pos, val) in enumerate(arr):\n",
    "        if pos == 0:\n",
    "            continue\n",
    "        if (lower and val > prev) or (not lower and val < prev):\n",
    "            lower = not lower\n",
    "            indexes.append(pos - 1) # previous day is end of sequence\n",
    "        else:\n",
    "            prev = val\n",
    "  # the last element hasn't been added; it is always the end of an increasing or decreasing sequences\n",
    "    indexes.append(len(arr) - 1)\n",
    "    return indexes"
   ]
  },
  {
   "cell_type": "code",
   "execution_count": 7,
   "metadata": {},
   "outputs": [],
   "source": [
    "# Finally, we need to write the function that will take our logic of trading and multiply storage capacity and \n",
    "# prices to calculate the maximum profit\n",
    "\n",
    "def mxProf(arr, capacity):\n",
    "    '''\n",
    "    mxProf() returns max_profit and the trade strategy as list of pairs [[buy_day1, sell_day1],...,[[buy_dayN, sell_dayN]]]\n",
    "    inputs: \n",
    "    arr - array of prices\n",
    "    capacity - storage capacity\n",
    "    '''\n",
    "    profits = 0\n",
    "    if len(arr) < 2: # here is writen the condtion that we cannot sell and buy on one day \n",
    "        return profits, []\n",
    "    seqs = findPeaks(arr)\n",
    "\n",
    "    if len(seqs) == 1: # if our array is dectreasing in a constant way; or minimize loss \n",
    "        prev = arr[1]\n",
    "        ind = 1\n",
    "        maxDiff = arr[1] - arr[0]\n",
    "        for (pos, val) in enumerate(arr):\n",
    "            if pos == 0 or pos == 1:\n",
    "                continue\n",
    "            if val - prev > maxDiff:\n",
    "                maxDiff = val - prev\n",
    "                ind = pos\n",
    "            prev = val\n",
    "        return [[ind - 1, ind]]\n",
    "  \n",
    "    if len(seqs) % 2 == 1: # define when the lowering is ended\n",
    "        seqs = seqs[:len(seqs)-1]\n",
    "  \n",
    "  # here we sell at the highest peak, buy at the the lowest, and wait between\n",
    "    days = []\n",
    "    for i in range(1, len(seqs), 2):\n",
    "        days.append([seqs[i-1], seqs[i]])\n",
    "        profits = profits + capacity*(arr[seqs[i]] - arr [seqs[i-1]])\n",
    "    return profits, days"
   ]
  },
  {
   "cell_type": "code",
   "execution_count": 8,
   "metadata": {},
   "outputs": [
    {
     "data": {
      "text/plain": [
       "(3065.2000000000025,\n",
       " [[0, 1],\n",
       "  [3, 4],\n",
       "  [6, 8],\n",
       "  [9, 11],\n",
       "  [13, 15],\n",
       "  [16, 18],\n",
       "  [19, 22],\n",
       "  [24, 26],\n",
       "  [28, 30],\n",
       "  [34, 37],\n",
       "  [39, 40],\n",
       "  [42, 44],\n",
       "  [46, 48],\n",
       "  [51, 54],\n",
       "  [56, 60],\n",
       "  [63, 65],\n",
       "  [67, 71],\n",
       "  [74, 77],\n",
       "  [79, 82],\n",
       "  [85, 87],\n",
       "  [91, 93],\n",
       "  [95, 96],\n",
       "  [97, 99],\n",
       "  [100, 103],\n",
       "  [105, 106],\n",
       "  [108, 109],\n",
       "  [110, 112],\n",
       "  [117, 122],\n",
       "  [125, 128],\n",
       "  [130, 132],\n",
       "  [134, 139],\n",
       "  [140, 142],\n",
       "  [144, 146],\n",
       "  [149, 152],\n",
       "  [153, 157],\n",
       "  [159, 160],\n",
       "  [162, 164],\n",
       "  [165, 166],\n",
       "  [169, 171],\n",
       "  [173, 175],\n",
       "  [176, 180],\n",
       "  [181, 182],\n",
       "  [184, 185],\n",
       "  [188, 190],\n",
       "  [191, 192],\n",
       "  [193, 195],\n",
       "  [197, 199],\n",
       "  [202, 203],\n",
       "  [204, 206],\n",
       "  [207, 208],\n",
       "  [210, 214],\n",
       "  [217, 219],\n",
       "  [221, 224],\n",
       "  [225, 227],\n",
       "  [230, 231],\n",
       "  [234, 235],\n",
       "  [238, 240],\n",
       "  [241, 242],\n",
       "  [244, 249],\n",
       "  [251, 263],\n",
       "  [266, 268],\n",
       "  [270, 271],\n",
       "  [273, 274],\n",
       "  [276, 277],\n",
       "  [279, 281],\n",
       "  [283, 284],\n",
       "  [287, 289],\n",
       "  [292, 295],\n",
       "  [297, 299],\n",
       "  [300, 302],\n",
       "  [304, 308],\n",
       "  [312, 313],\n",
       "  [315, 318],\n",
       "  [323, 327],\n",
       "  [329, 330],\n",
       "  [333, 335],\n",
       "  [336, 339],\n",
       "  [343, 345],\n",
       "  [348, 350],\n",
       "  [352, 353],\n",
       "  [355, 358],\n",
       "  [364, 372],\n",
       "  [373, 374],\n",
       "  [376, 379],\n",
       "  [380, 384],\n",
       "  [385, 388],\n",
       "  [390, 392],\n",
       "  [394, 396],\n",
       "  [397, 398],\n",
       "  [402, 404],\n",
       "  [407, 408],\n",
       "  [410, 412],\n",
       "  [415, 417],\n",
       "  [418, 422],\n",
       "  [423, 425],\n",
       "  [427, 429],\n",
       "  [430, 432],\n",
       "  [434, 435],\n",
       "  [437, 440],\n",
       "  [441, 443],\n",
       "  [445, 449],\n",
       "  [451, 455],\n",
       "  [457, 459],\n",
       "  [460, 463],\n",
       "  [465, 469],\n",
       "  [471, 473],\n",
       "  [476, 479],\n",
       "  [481, 482],\n",
       "  [485, 486],\n",
       "  [487, 488],\n",
       "  [489, 492],\n",
       "  [495, 497],\n",
       "  [500, 502],\n",
       "  [505, 508],\n",
       "  [512, 513],\n",
       "  [515, 517],\n",
       "  [521, 524],\n",
       "  [527, 530],\n",
       "  [531, 532],\n",
       "  [535, 537],\n",
       "  [539, 541],\n",
       "  [546, 549],\n",
       "  [553, 555],\n",
       "  [557, 561],\n",
       "  [563, 566],\n",
       "  [567, 570],\n",
       "  [572, 574],\n",
       "  [576, 578],\n",
       "  [581, 582],\n",
       "  [586, 588]])"
      ]
     },
     "execution_count": 8,
     "metadata": {},
     "output_type": "execute_result"
    }
   ],
   "source": [
    "# finaly, check if the function to find trading strategy and maximized profit works\n",
    "\n",
    "mxProf(df.Close.values, 200)"
   ]
  },
  {
   "cell_type": "code",
   "execution_count": null,
   "metadata": {},
   "outputs": [],
   "source": []
  }
 ],
 "metadata": {
  "kernelspec": {
   "display_name": "Python 3",
   "language": "python",
   "name": "python3"
  },
  "language_info": {
   "codemirror_mode": {
    "name": "ipython",
    "version": 3
   },
   "file_extension": ".py",
   "mimetype": "text/x-python",
   "name": "python",
   "nbconvert_exporter": "python",
   "pygments_lexer": "ipython3",
   "version": "3.7.6"
  }
 },
 "nbformat": 4,
 "nbformat_minor": 4
}
